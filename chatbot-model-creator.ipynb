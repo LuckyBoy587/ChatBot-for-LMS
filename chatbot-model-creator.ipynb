{
 "cells": [
  {
   "cell_type": "code",
   "execution_count": 54,
   "metadata": {},
   "outputs": [],
   "source": [
    "import json\n",
    "import nltk\n",
    "import string\n",
    "import numpy as np\n",
    "import pickle\n",
    "from keras.src.models import Sequential\n",
    "from keras.src.layers import Dense, Dropout, Input\n",
    "\n",
    "np.set_printoptions(suppress=True)"
   ]
  },
  {
   "cell_type": "code",
   "execution_count": 6,
   "metadata": {},
   "outputs": [],
   "source": [
    "with open(\"data/intents.json\") as f:\n",
    "    intents = json.load(f)[\"intents\"]"
   ]
  },
  {
   "cell_type": "code",
   "execution_count": null,
   "metadata": {},
   "outputs": [],
   "source": [
    "unique_words = set()\n",
    "unique_classes = set()\n",
    "document = []\n",
    "lemmatizer = nltk.WordNetLemmatizer()\n",
    "ignore_words = string.punctuation\n",
    "ignore_words"
   ]
  },
  {
   "cell_type": "code",
   "execution_count": 8,
   "metadata": {},
   "outputs": [],
   "source": [
    "for intent in intents:\n",
    "    for pattern in intent[\"patterns\"]:\n",
    "        word_list = nltk.word_tokenize(pattern)\n",
    "        word_list = [lemmatizer.lemmatize(word.lower()) for word in word_list if word not in ignore_words]\n",
    "        unique_words.update(word_list)\n",
    "        unique_classes.add(intent[\"tag\"])\n",
    "        document.append((word_list, intent[\"tag\"]))"
   ]
  },
  {
   "cell_type": "code",
   "execution_count": 9,
   "metadata": {},
   "outputs": [],
   "source": [
    "unique_words = sorted(unique_words)\n",
    "unique_classes = sorted(unique_classes)"
   ]
  },
  {
   "cell_type": "code",
   "execution_count": 55,
   "metadata": {},
   "outputs": [],
   "source": [
    "with open(\"data/words.pkl\", \"wb\") as f:\n",
    "    pickle.dump(unique_words, f)\n",
    "\n",
    "with open(\"data/classes.pkl\", \"wb\") as f:\n",
    "    pickle.dump(unique_classes, f)"
   ]
  },
  {
   "cell_type": "code",
   "execution_count": 10,
   "metadata": {},
   "outputs": [],
   "source": [
    "trainX = []\n",
    "trainY = []"
   ]
  },
  {
   "cell_type": "code",
   "execution_count": 11,
   "metadata": {},
   "outputs": [],
   "source": [
    "for pair in document:\n",
    "    features = [0] * len(unique_words)\n",
    "    for word in pair[0]:\n",
    "        features[unique_words.index(word)] = 1\n",
    "    trainX.append(np.array(features))\n",
    "    \n",
    "    labels = [0] * len(unique_classes)\n",
    "    labels[unique_classes.index(pair[1])] = 1\n",
    "    trainY.append(np.array(labels))"
   ]
  },
  {
   "cell_type": "code",
   "execution_count": null,
   "metadata": {},
   "outputs": [],
   "source": [
    "model = Sequential([\n",
    "    Input(shape=(len(trainX[0]),)),\n",
    "    Dense(128, activation=\"relu\"),\n",
    "    Dropout(0.5),\n",
    "    Dense(64, activation=\"relu\"),\n",
    "    Dropout(0.5),\n",
    "    Dense(len(trainY[0]), activation=\"softmax\")\n",
    "])\n",
    "model.compile(optimizer=\"adam\", loss=\"categorical_crossentropy\", metrics=[\"accuracy\"])\n",
    "model.summary()"
   ]
  },
  {
   "cell_type": "code",
   "execution_count": null,
   "metadata": {},
   "outputs": [],
   "source": [
    "model.fit(np.array(trainX), np.array(trainY), epochs=200, batch_size=5)"
   ]
  }
 ],
 "metadata": {
  "kernelspec": {
   "display_name": "myenv",
   "language": "python",
   "name": "python3"
  },
  "language_info": {
   "codemirror_mode": {
    "name": "ipython",
    "version": 3
   },
   "file_extension": ".py",
   "mimetype": "text/x-python",
   "name": "python",
   "nbconvert_exporter": "python",
   "pygments_lexer": "ipython3",
   "version": "3.12.6"
  }
 },
 "nbformat": 4,
 "nbformat_minor": 2
}
